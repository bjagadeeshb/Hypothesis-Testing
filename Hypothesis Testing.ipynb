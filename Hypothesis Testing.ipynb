{
 "cells": [
  {
   "cell_type": "markdown",
   "metadata": {},
   "source": [
    "**Table of Contents:**\n",
    "\n",
    "* One-Tailed Tests About a Population Mean :when SIGMA KNOWN\n",
    "\n",
    "* Two-Tailed Tests About a Population Mean:When SIGMA KNOWN\n",
    "\n",
    "* Two-Tailed Tests About a Population Proportion\n",
    "\n",
    "* Population Means Independent samples when variance 1 & 2 are KNOWN\n",
    "\n",
    "* Variace Unknown and assuned EQUAL\n",
    "\n",
    "* Variace Unknown and assuned UNEQUAL\n",
    "\n",
    "* Dependent Samples\n",
    "\n",
    "* Inferences About the Difference B/W Two Population Proportions\n",
    "\n",
    "* Hypothesis Tests for Two Variances\n",
    "\n",
    "* Z test v/s T test "
   ]
  },
  {
   "cell_type": "code",
   "execution_count": 1,
   "metadata": {},
   "outputs": [],
   "source": [
    "#import necessary libraries\n",
    "import scipy \n",
    "from scipy import stats"
   ]
  },
  {
   "cell_type": "code",
   "execution_count": 2,
   "metadata": {},
   "outputs": [],
   "source": [
    "#Hypothesis testing can be used to determine whether a statement about the calue of a population parameter should or should not \n",
    "#rejected.\n",
    "\n",
    "#The null hypothesis,denoted hy Ho, is a tentative assumption about a population parameter\n",
    "#the alternative hypothesis,denotated by Ha, is the opposite of what is stated in the null hypothesis"
   ]
  },
  {
   "cell_type": "markdown",
   "metadata": {},
   "source": [
    "It is not always obvious how the null ans alternative hypotheses should be formulated.in some cases it is easier to identify the alternative hypothesis first,in other cases the nulll is easier\n",
    "\n",
    "**Alternative Hypothesis as a Research Hypothesis**\n",
    " -Many applications of hypothesis testing involves an attempt to gather evidence in support of a research hypothesis,in such cases ,it is often best to begain with the alterntive hypothesis,and make it hte conclusion that the researcher hopes to support\n",
    " \n",
    " **Null Hypothesis as an assumption to be challenged**\n",
    "    -we might begin with a belief or assumption that a statement about the value of a population parameter is true,we than using a hypothesis test to challenge the assumption and determine if there is statistical evidence to conclude that the assumption is incorrecet\n",
    "    -in these sithuations,it is helpful to develop the null hypothesis first.\n",
    "                    \n"
   ]
  },
  {
   "cell_type": "markdown",
   "metadata": {},
   "source": [
    "**Upper-Tail Test :**     H0 : mu1 - mu2 <= 0\n",
    "\n",
    "                  H1 : mu1 - mu2 > 0\n",
    "                            \n",
    "**Lower-Tail Test :**     H0 : mu1 - mu2 >= 0\n",
    " \n",
    "                  H1 : mu1 - mu2 < 0\n",
    "                          \n",
    "                          \n",
    "**Two-Tail Test :**       H0 : mu1 - mu2 = 0 \n",
    "\n",
    "                  H1 : mu1 - mu2 !=0"
   ]
  },
  {
   "cell_type": "markdown",
   "metadata": {},
   "source": [
    "# One-Tailed Tests About a Population Mean :when SIGMA KNOWN\n"
   ]
  },
  {
   "cell_type": "code",
   "execution_count": 3,
   "metadata": {},
   "outputs": [],
   "source": [
    "#Q:- the mean responce times for a random sample of 30 pizza Deliveries is 32 minutues,\n",
    "\n",
    "#The population standard deviation is belived to be 10 minutes.\n",
    "\n",
    "#The pizza delivery services director wants to perform a hypothesis test, with alpha=0.05 level of significance,to determine\n",
    "# whether the service goal of 30 minutes or less is being achieved."
   ]
  },
  {
   "cell_type": "code",
   "execution_count": 4,
   "metadata": {},
   "outputs": [],
   "source": [
    "#formulate H0 & H1"
   ]
  },
  {
   "cell_type": "markdown",
   "metadata": {},
   "source": [
    "H0 : mu <= 30  \n",
    "\n",
    "H1 : MU > 30  "
   ]
  },
  {
   "cell_type": "code",
   "execution_count": 5,
   "metadata": {},
   "outputs": [],
   "source": [
    "#from above we can sat that this is a right tailed test"
   ]
  },
  {
   "cell_type": "code",
   "execution_count": 6,
   "metadata": {},
   "outputs": [],
   "source": [
    "#given \n",
    "x=32   #sample mean\n",
    "mu=30\n",
    "std=10\n",
    "n=30\n",
    "alpha=0.05"
   ]
  },
  {
   "cell_type": "code",
   "execution_count": 7,
   "metadata": {},
   "outputs": [],
   "source": [
    "import numpy as np"
   ]
  },
  {
   "cell_type": "code",
   "execution_count": 8,
   "metadata": {
    "scrolled": true
   },
   "outputs": [],
   "source": [
    "z=(x-mu)/(std/np.sqrt(n))"
   ]
  },
  {
   "cell_type": "code",
   "execution_count": 9,
   "metadata": {},
   "outputs": [
    {
     "data": {
      "text/plain": [
       "1.0954451150103321"
      ]
     },
     "execution_count": 9,
     "metadata": {},
     "output_type": "execute_result"
    }
   ],
   "source": [
    "z"
   ]
  },
  {
   "cell_type": "code",
   "execution_count": 10,
   "metadata": {},
   "outputs": [],
   "source": [
    "# z-calculateted value = 1.0954451150103321"
   ]
  },
  {
   "cell_type": "markdown",
   "metadata": {},
   "source": [
    "# P-Value approach"
   ]
  },
  {
   "cell_type": "code",
   "execution_count": 11,
   "metadata": {},
   "outputs": [],
   "source": [
    "from scipy import stats"
   ]
  },
  {
   "cell_type": "code",
   "execution_count": 12,
   "metadata": {},
   "outputs": [
    {
     "data": {
      "text/plain": [
       "0.13666083914614902"
      ]
     },
     "execution_count": 12,
     "metadata": {},
     "output_type": "execute_result"
    }
   ],
   "source": [
    "#given one is right-tailed teat so use 1-stats.norm\n",
    "\n",
    "p_value=1-stats.norm.cdf(1.0954451150103321)\n",
    "p_value"
   ]
  },
  {
   "cell_type": "code",
   "execution_count": 13,
   "metadata": {},
   "outputs": [],
   "source": [
    "#p-value is 0.13666083914614902, and given alpha value is 0.05, \n",
    "\n",
    "#p_value > alpha_value  [0.13666083914614902 > 0.05], so don not reject the NULL Hypothesis."
   ]
  },
  {
   "cell_type": "markdown",
   "metadata": {},
   "source": [
    "# Critical Value Approach"
   ]
  },
  {
   "cell_type": "code",
   "execution_count": 14,
   "metadata": {},
   "outputs": [
    {
     "data": {
      "text/plain": [
       "1.6448536269514722"
      ]
     },
     "execution_count": 14,
     "metadata": {},
     "output_type": "execute_result"
    }
   ],
   "source": [
    "#Given alpha = 0.05\n",
    "\n",
    "#Z-Table value at 0.05 is\n",
    "\n",
    "z_table_value=stats.norm.ppf(0.95)\n",
    "z_table_value"
   ]
  },
  {
   "cell_type": "code",
   "execution_count": 15,
   "metadata": {},
   "outputs": [],
   "source": [
    "# z_calculated = 1.0954451150103321  AND  z_table_value = z_table_value\n",
    "\n",
    "\n",
    "#HERE :- z_table_value >= z_calculated [ 1.6448536269514722 >= 1.0954451150103321], we do not reject H0"
   ]
  },
  {
   "cell_type": "markdown",
   "metadata": {},
   "source": [
    "**CONCLUSION**\n",
    "\n",
    "       There are not sufficient statistical evidence to infer that Pizza delivery services is not meeting the responce goal of 30 minutes"
   ]
  },
  {
   "cell_type": "markdown",
   "metadata": {},
   "source": [
    "# Two-Tailed Tests About a Population Mean:     when SIGMA KNOWN"
   ]
  },
  {
   "cell_type": "code",
   "execution_count": 16,
   "metadata": {},
   "outputs": [],
   "source": [
    "# Q:- Assume that a sample of 30 milk carton provides a sample mean os 505ml.\n",
    "#the populaton standard deviation is believed to be 10ml.\n",
    "#perform a hypothesis test, at the 0.03 level of significanve, population mean 500ml, and to help determine whether the filling \n",
    "#process should continue operating or stopped and corrected."
   ]
  },
  {
   "cell_type": "code",
   "execution_count": 17,
   "metadata": {},
   "outputs": [],
   "source": [
    "#formulate the H0,H1"
   ]
  },
  {
   "cell_type": "markdown",
   "metadata": {},
   "source": [
    "**H0**  :mu = 500 [mean filling quantity is 500, i.e no need to fill now, we can stop operating ]\n",
    "\n",
    "**H1**  :mu != 500 [mean filling quantity is not 500, i.e we need to continue opeating]"
   ]
  },
  {
   "cell_type": "code",
   "execution_count": 18,
   "metadata": {},
   "outputs": [],
   "source": [
    "#Given one is a two tailed test"
   ]
  },
  {
   "cell_type": "code",
   "execution_count": 19,
   "metadata": {},
   "outputs": [],
   "source": [
    "#GIVEN \n",
    "X = 505\n",
    "mu = 500\n",
    "sigma = 10\n",
    "n = 30 \n",
    "alpha = 0.03"
   ]
  },
  {
   "cell_type": "code",
   "execution_count": 20,
   "metadata": {},
   "outputs": [
    {
     "data": {
      "text/plain": [
       "2.7386127875258306"
      ]
     },
     "execution_count": 20,
     "metadata": {},
     "output_type": "execute_result"
    }
   ],
   "source": [
    "Z = (X-mu)/(sigma/np.sqrt(n))\n",
    "Z"
   ]
  },
  {
   "cell_type": "markdown",
   "metadata": {},
   "source": [
    "# P-value Approach for Two-Tailed Test About a Population Mean:  when SIGMA KNOWN"
   ]
  },
  {
   "cell_type": "code",
   "execution_count": 21,
   "metadata": {},
   "outputs": [
    {
     "data": {
      "text/plain": [
       "0.0061698993205441255"
      ]
     },
     "execution_count": 21,
     "metadata": {},
     "output_type": "execute_result"
    }
   ],
   "source": [
    "p_value_2 = (1-stats.norm.cdf(2.7386127875258306))*2    # *2 is because we are having two-tailed tests.\n",
    "\n",
    "p_value_2"
   ]
  },
  {
   "cell_type": "code",
   "execution_count": 22,
   "metadata": {},
   "outputs": [],
   "source": [
    "#HERE:-  p_value_2 <= alpha [ 0.0061698993205441255 < 0.03 ]  # so reject H0"
   ]
  },
  {
   "cell_type": "markdown",
   "metadata": {},
   "source": [
    "# Critical Value Approach for TWO-Tailed Test About a Population Mean :when SIGMA KNOWN"
   ]
  },
  {
   "cell_type": "code",
   "execution_count": 23,
   "metadata": {},
   "outputs": [],
   "source": [
    "#Firstly Determine the critical value and rejection rule, for alpha/2 = 0.03/2  [because it is a Two-Tailed Test]"
   ]
  },
  {
   "cell_type": "code",
   "execution_count": 24,
   "metadata": {},
   "outputs": [],
   "source": [
    "z_value_2=stats.norm.ppf(0.03/2)"
   ]
  },
  {
   "cell_type": "code",
   "execution_count": 25,
   "metadata": {
    "scrolled": true
   },
   "outputs": [
    {
     "data": {
      "text/plain": [
       "-2.1700903775845606"
      ]
     },
     "execution_count": 25,
     "metadata": {},
     "output_type": "execute_result"
    }
   ],
   "source": [
    "z_value_2"
   ]
  },
  {
   "cell_type": "code",
   "execution_count": 26,
   "metadata": {},
   "outputs": [],
   "source": [
    "#rejection rule:\n",
    "\n",
    "#Reject H0 if z < -2.17  OR  z > +2.17"
   ]
  },
  {
   "cell_type": "code",
   "execution_count": 27,
   "metadata": {},
   "outputs": [],
   "source": [
    "# here Z_calculate > + zvalue_2 [ 2.7386127875258306  > 2.1700903775845606 ]  so  reject HO"
   ]
  },
  {
   "cell_type": "markdown",
   "metadata": {},
   "source": [
    "**CONCLUSION**\n",
    "\n",
    "      There is no sufficient statistical evidence to infer that the null hypothesis is true (i.e the mean filling quantity is not 500ml), reject H0\n",
    "      \n",
    "              mean filling quantity is not 500, i.e we need to continue opeating"
   ]
  },
  {
   "cell_type": "markdown",
   "metadata": {},
   "source": [
    "# One-Tailed Test About a Population Mean: when SIGMA UNKNOWN"
   ]
  },
  {
   "cell_type": "code",
   "execution_count": 28,
   "metadata": {},
   "outputs": [],
   "source": [
    "#NOTE:- When sigma is unknown go for T-Test"
   ]
  },
  {
   "cell_type": "code",
   "execution_count": 29,
   "metadata": {},
   "outputs": [],
   "source": [
    "#Q:- In a ice cream parlor at IIT Roorkee,the following data represent the number of ice-creams sold in 20 days\n",
    "#Tests Hypothesis H0 <= 10\n",
    "X2=[13,8,10,10,8,9,10,11,6,8,12,11,11,12,10,12,7,10,11,8]"
   ]
  },
  {
   "cell_type": "code",
   "execution_count": 30,
   "metadata": {},
   "outputs": [],
   "source": [
    "#Given one is a Right-Tailed- Test"
   ]
  },
  {
   "cell_type": "code",
   "execution_count": 31,
   "metadata": {},
   "outputs": [],
   "source": [
    "from scipy import stats"
   ]
  },
  {
   "cell_type": "code",
   "execution_count": 32,
   "metadata": {},
   "outputs": [
    {
     "data": {
      "text/plain": [
       "Ttest_1sampResult(statistic=-0.35843385854878496, pvalue=0.7239703579964252)"
      ]
     },
     "execution_count": 32,
     "metadata": {},
     "output_type": "execute_result"
    }
   ],
   "source": [
    "#it takes two inputs data & mean\n",
    "\n",
    "stats.ttest_1samp(X2,10)  # data,mean "
   ]
  },
  {
   "cell_type": "code",
   "execution_count": 33,
   "metadata": {},
   "outputs": [
    {
     "data": {
      "text/plain": [
       "9.85"
      ]
     },
     "execution_count": 33,
     "metadata": {},
     "output_type": "execute_result"
    }
   ],
   "source": [
    "import numpy as np\n",
    "np.mean(X2)"
   ]
  },
  {
   "cell_type": "code",
   "execution_count": 34,
   "metadata": {},
   "outputs": [
    {
     "data": {
      "text/plain": [
       "20"
      ]
     },
     "execution_count": 34,
     "metadata": {},
     "output_type": "execute_result"
    }
   ],
   "source": [
    "len(X2)"
   ]
  },
  {
   "cell_type": "code",
   "execution_count": 35,
   "metadata": {},
   "outputs": [],
   "source": [
    "#having a dought here"
   ]
  },
  {
   "cell_type": "code",
   "execution_count": 36,
   "metadata": {},
   "outputs": [],
   "source": [
    "#having a doughts here"
   ]
  },
  {
   "cell_type": "code",
   "execution_count": 37,
   "metadata": {},
   "outputs": [],
   "source": [
    "#having a doughr here"
   ]
  },
  {
   "cell_type": "code",
   "execution_count": 38,
   "metadata": {},
   "outputs": [],
   "source": [
    "#having a dought here"
   ]
  },
  {
   "cell_type": "code",
   "execution_count": 39,
   "metadata": {},
   "outputs": [],
   "source": [
    "#having a dought here"
   ]
  },
  {
   "cell_type": "markdown",
   "metadata": {},
   "source": [
    "# Two-Tailed Tests About a Population Proportion"
   ]
  },
  {
   "cell_type": "code",
   "execution_count": 40,
   "metadata": {},
   "outputs": [],
   "source": [
    "#NOTE:- in Proportion we only use Z-Test statistics"
   ]
  },
  {
   "cell_type": "code",
   "execution_count": 41,
   "metadata": {},
   "outputs": [],
   "source": [
    "#Q:- For a new Year's week,the city Traffic police claimed that 50% of the accidents would be caused by drunk driving.\n",
    "\n",
    "#A sample of 120 accidents showed that 657 were caused by drunk driving.Use these data to test the Traffic police's claim \n",
    "#with alpha = 0.05"
   ]
  },
  {
   "cell_type": "code",
   "execution_count": 42,
   "metadata": {},
   "outputs": [],
   "source": [
    "#formulate the Null & Alternate Hypothesis"
   ]
  },
  {
   "cell_type": "markdown",
   "metadata": {},
   "source": [
    "**H0** :- p = 0.5\n",
    "\n",
    "**H1** :- p != 0.5"
   ]
  },
  {
   "cell_type": "markdown",
   "metadata": {},
   "source": [
    "# P-value Approach for Two-Tailed Test about a Populaton Proportion"
   ]
  },
  {
   "cell_type": "code",
   "execution_count": 43,
   "metadata": {},
   "outputs": [],
   "source": [
    "#for proporton import proportion_ztest"
   ]
  },
  {
   "cell_type": "code",
   "execution_count": 44,
   "metadata": {},
   "outputs": [],
   "source": [
    "from statsmodels.stats.proportion import proportions_ztest"
   ]
  },
  {
   "cell_type": "code",
   "execution_count": 45,
   "metadata": {},
   "outputs": [],
   "source": [
    "#Given \n",
    "count = 67\n",
    "samplesize=120\n",
    "p=0.5"
   ]
  },
  {
   "cell_type": "code",
   "execution_count": 46,
   "metadata": {},
   "outputs": [
    {
     "data": {
      "text/plain": [
       "(1.286806739751111, 0.1981616572238455)"
      ]
     },
     "execution_count": 46,
     "metadata": {},
     "output_type": "execute_result"
    }
   ],
   "source": [
    "proportions_ztest(count,samplesize,p)"
   ]
  },
  {
   "cell_type": "markdown",
   "metadata": {},
   "source": [
    "**Test Statistic**   \n",
    "    \n",
    "                Z =(P - p0)/root(p0(1-p0)/n)"
   ]
  },
  {
   "cell_type": "markdown",
   "metadata": {},
   "source": [
    "**Conclusion** \n",
    "   \n",
    "         p_value > alpha value so we do not reject the H0.\n",
    "         \n",
    "     95% probabilly we can say that 50% of the accidents would be caused by drunk driving"
   ]
  },
  {
   "cell_type": "markdown",
   "metadata": {},
   "source": [
    "# Hypothesis Testing: Two sample test"
   ]
  },
  {
   "cell_type": "markdown",
   "metadata": {},
   "source": [
    "**Population Means**  **Independent samples when variance 1 & 2 are KNOWM**"
   ]
  },
  {
   "cell_type": "code",
   "execution_count": 47,
   "metadata": {},
   "outputs": [],
   "source": [
    "#Test-statisitics is Z-value"
   ]
  },
  {
   "cell_type": "code",
   "execution_count": 48,
   "metadata": {},
   "outputs": [],
   "source": [
    "# Q:- A product developer is interested in reducing the drying time of a primer paint,Two formulations of the paint are tested;\n",
    "#formulation1 is the standard chemistry,and formulation 2 has a new drying ingredient that should reduce the drying time.\n",
    "#from experience, it is known that the standard deviation of drying time is 8 minutes, and this inherent variability should be \n",
    "#unaffected by the addition of the new ingredient.\n",
    "\n",
    "#Ten specimens are painted with formulation 1, and another 10 specimens are painted with formulation 2;\n",
    "#the 20 specimeans are painted in random order.\n",
    "\n",
    "#The Two-Sample average drying times are X1=121 minutes and X2 = 112 minutes,respectivily.\n",
    "\n",
    "#What conclusions can the product developer draw about the effectiveness of the new ingredient,using alpha = 0.05?"
   ]
  },
  {
   "cell_type": "code",
   "execution_count": 49,
   "metadata": {},
   "outputs": [],
   "source": [
    "#formulate the H0 & H1"
   ]
  },
  {
   "cell_type": "markdown",
   "metadata": {},
   "source": [
    "**H0 :-**  mu1 = mu 2 [Means are equal , i.e new ingredient do not reduce the mean drying time].\n",
    "\n",
    "**H1 :-**  mu1 != mu2 [adding the new ingredient to the paint significantly reduce the drying time]."
   ]
  },
  {
   "cell_type": "code",
   "execution_count": 50,
   "metadata": {},
   "outputs": [],
   "source": [
    "#import necassary libraries \n",
    "import numpy as np\n",
    "import math \n",
    "from scipy import stats"
   ]
  },
  {
   "cell_type": "code",
   "execution_count": 51,
   "metadata": {},
   "outputs": [],
   "source": [
    "#Here given\n",
    "X1=121\n",
    "X2=112\n",
    "sigma1=8\n",
    "sigma2=8\n",
    "n1=10\n",
    "n2=10"
   ]
  },
  {
   "cell_type": "code",
   "execution_count": 52,
   "metadata": {},
   "outputs": [],
   "source": [
    "#define a function to get Z and P values\n",
    "\n",
    "def z_and_p(x1,x2,sigma1,sigma2,n1,n2):\n",
    "    z=(x1-x2)/math.sqrt((sigma1**2/n1)+(sigma2**2/n2)) #formula to get Z_calculated_value\n",
    "    if(z<0):\n",
    "        p=stats.norm.cdf(z)\n",
    "    else:\n",
    "        p=1-stats.norm.cdf(z)\n",
    "        \n",
    "    print(z,p)"
   ]
  },
  {
   "cell_type": "code",
   "execution_count": 53,
   "metadata": {},
   "outputs": [
    {
     "name": "stdout",
     "output_type": "stream",
     "text": [
      "2.5155764746872635 0.00594189462107364\n"
     ]
    }
   ],
   "source": [
    "z_and_p(121,112,8,8,10,10)"
   ]
  },
  {
   "cell_type": "code",
   "execution_count": 54,
   "metadata": {},
   "outputs": [
    {
     "data": {
      "text/plain": [
       "1.6448536269514722"
      ]
     },
     "execution_count": 54,
     "metadata": {},
     "output_type": "execute_result"
    }
   ],
   "source": [
    "stats.norm.ppf(0.95)"
   ]
  },
  {
   "cell_type": "markdown",
   "metadata": {},
   "source": [
    "**Critical Value Approach  :-**\n",
    "\n",
    "          Z_calculated_value > z_table_value, [2.5155764746872635 > 1.6448536269514722], so reject the H0,\n",
    "          \n",
    "          \n",
    "and we can conclude that adding the new ingredient to the paint significantlt reduces the drying time\n",
    "\n",
    "\n",
    "\n",
    "\n",
    "**P-Value Approach  :-**\n",
    "\n",
    "        P_Value < alpha, [0.00594189462107364 < 0.05], so reject the H0 \n",
    "        \n",
    "       AND can conclude There is evidence of a difference in means."
   ]
  },
  {
   "cell_type": "markdown",
   "metadata": {},
   "source": [
    "# Variace Unknown and assuned EQUAL"
   ]
  },
  {
   "cell_type": "markdown",
   "metadata": {},
   "source": [
    "**Population variance sigma1^2&sigma2^2 Unknown, Assumed equal**"
   ]
  },
  {
   "cell_type": "code",
   "execution_count": 55,
   "metadata": {},
   "outputs": [
    {
     "data": {
      "text/html": [
       "<div>\n",
       "<style scoped>\n",
       "    .dataframe tbody tr th:only-of-type {\n",
       "        vertical-align: middle;\n",
       "    }\n",
       "\n",
       "    .dataframe tbody tr th {\n",
       "        vertical-align: top;\n",
       "    }\n",
       "\n",
       "    .dataframe thead th {\n",
       "        text-align: right;\n",
       "    }\n",
       "</style>\n",
       "<table border=\"1\" class=\"dataframe\">\n",
       "  <thead>\n",
       "    <tr style=\"text-align: right;\">\n",
       "      <th></th>\n",
       "      <th>Observation_Number</th>\n",
       "      <th>Catalyst_1</th>\n",
       "      <th>Catalyst_2</th>\n",
       "    </tr>\n",
       "  </thead>\n",
       "  <tbody>\n",
       "    <tr>\n",
       "      <td>0</td>\n",
       "      <td>1</td>\n",
       "      <td>91.50</td>\n",
       "      <td>89.19</td>\n",
       "    </tr>\n",
       "    <tr>\n",
       "      <td>1</td>\n",
       "      <td>2</td>\n",
       "      <td>94.18</td>\n",
       "      <td>90.95</td>\n",
       "    </tr>\n",
       "    <tr>\n",
       "      <td>2</td>\n",
       "      <td>3</td>\n",
       "      <td>92.18</td>\n",
       "      <td>90.46</td>\n",
       "    </tr>\n",
       "    <tr>\n",
       "      <td>3</td>\n",
       "      <td>4</td>\n",
       "      <td>95.39</td>\n",
       "      <td>93.21</td>\n",
       "    </tr>\n",
       "    <tr>\n",
       "      <td>4</td>\n",
       "      <td>5</td>\n",
       "      <td>91.79</td>\n",
       "      <td>97.19</td>\n",
       "    </tr>\n",
       "    <tr>\n",
       "      <td>5</td>\n",
       "      <td>6</td>\n",
       "      <td>89.07</td>\n",
       "      <td>97.04</td>\n",
       "    </tr>\n",
       "    <tr>\n",
       "      <td>6</td>\n",
       "      <td>7</td>\n",
       "      <td>94.72</td>\n",
       "      <td>91.07</td>\n",
       "    </tr>\n",
       "    <tr>\n",
       "      <td>7</td>\n",
       "      <td>8</td>\n",
       "      <td>89.21</td>\n",
       "      <td>92.75</td>\n",
       "    </tr>\n",
       "  </tbody>\n",
       "</table>\n",
       "</div>"
      ],
      "text/plain": [
       "   Observation_Number  Catalyst_1  Catalyst_2\n",
       "0                   1       91.50       89.19\n",
       "1                   2       94.18       90.95\n",
       "2                   3       92.18       90.46\n",
       "3                   4       95.39       93.21\n",
       "4                   5       91.79       97.19\n",
       "5                   6       89.07       97.04\n",
       "6                   7       94.72       91.07\n",
       "7                   8       89.21       92.75"
      ]
     },
     "execution_count": 55,
     "metadata": {},
     "output_type": "execute_result"
    }
   ],
   "source": [
    "import pandas as pd\n",
    "from scipy import stats\n",
    "df4=pd.read_excel('C:/Users/jagadeesh baman/Documents/alldata/sigma_unknow_Aequal.xlsx')\n",
    "df4"
   ]
  },
  {
   "cell_type": "code",
   "execution_count": 56,
   "metadata": {},
   "outputs": [],
   "source": [
    "# Q:- Two catalysts are being analyzed to determine how they affect the mean yiled of a chemical process.\n",
    "#Specifically,catalyst 1 is currently in use,but catalyst 2 is acceptable.\n",
    "#Since catalyst 2 is cheaper, it should be adopted, providing it does not change the peocess yiled.\n",
    "#A test is run in the pilot plNT nd results in the data shown in above table.\n",
    "#Is there any difference B/W the mean yields?, Use 0.05, and assume equal variances."
   ]
  },
  {
   "cell_type": "code",
   "execution_count": 57,
   "metadata": {},
   "outputs": [],
   "source": [
    "#formulate the H0 & H1"
   ]
  },
  {
   "cell_type": "markdown",
   "metadata": {},
   "source": [
    "**H0 :-** mu1 = mu2 [catalst 2 results in a mean yield that same from the mean yield when catalyst 1 is used]\n",
    "\n",
    "**H1 :-** mu != mu2 [catalst 2 results in a mean yield that differs from the mean yield when catalyst 1 is used"
   ]
  },
  {
   "cell_type": "code",
   "execution_count": 58,
   "metadata": {},
   "outputs": [
    {
     "data": {
      "text/plain": [
       "[91.5, 94.18, 92.18, 95.39, 91.79, 89.07, 94.72, 89.21]"
      ]
     },
     "execution_count": 58,
     "metadata": {},
     "output_type": "execute_result"
    }
   ],
   "source": [
    "A = list(df4.Catalyst_1)\n",
    "A"
   ]
  },
  {
   "cell_type": "code",
   "execution_count": 59,
   "metadata": {},
   "outputs": [
    {
     "data": {
      "text/plain": [
       "[89.19, 90.95, 90.46, 93.21, 97.19, 97.04, 91.07, 92.75]"
      ]
     },
     "execution_count": 59,
     "metadata": {},
     "output_type": "execute_result"
    }
   ],
   "source": [
    "B = list(df4.Catalyst_2)\n",
    "B"
   ]
  },
  {
   "cell_type": "code",
   "execution_count": 60,
   "metadata": {},
   "outputs": [
    {
     "data": {
      "text/plain": [
       "Ttest_indResult(statistic=-0.3535908643461798, pvalue=0.7289136186068217)"
      ]
     },
     "execution_count": 60,
     "metadata": {},
     "output_type": "execute_result"
    }
   ],
   "source": [
    "stats.ttest_ind(A,B,equal_var =True)"
   ]
  },
  {
   "cell_type": "code",
   "execution_count": 61,
   "metadata": {},
   "outputs": [
    {
     "data": {
      "text/plain": [
       "-2.1447866879169277"
      ]
     },
     "execution_count": 61,
     "metadata": {},
     "output_type": "execute_result"
    }
   ],
   "source": [
    "#critival value\n",
    "\n",
    "stats.t.ppf(0.025,14)  # [alpha/2, dof,(n1-1+n2-1)]"
   ]
  },
  {
   "cell_type": "markdown",
   "metadata": {},
   "source": [
    "**Conclusion :**\n",
    "\n",
    "       \n",
    "   **Critival_Value_Approach:**\n",
    "   \n",
    "       -t_table_ value < t0 < +t_table_ value [-2.1447866879169277 < -0.3535908643461798 < 2.1447866879169277 ],so don not reject the NULL HYPOTHESIS.\n",
    "       That is, at the 0.05 level of significance, we do not have strong evidence to conclude that catalyst 2, results in a mean yield that difference from the mean yield when catalyst 1 is used.\n",
    "       \n",
    "   **P-Value Approach:**\n",
    "       \n",
    "       \n",
    "       p_value > alpha  so do not reject the null hypothesis,that is means re equal.\n",
    "       "
   ]
  },
  {
   "cell_type": "markdown",
   "metadata": {},
   "source": [
    "# Variace Unknown and assuned UNEQUAL"
   ]
  },
  {
   "cell_type": "code",
   "execution_count": 62,
   "metadata": {},
   "outputs": [],
   "source": [
    "#NOTE :- The population variances ae assumed unequal, so a pooled variance isnot approproate.\n",
    "\n",
    "#Use a t-value with v degreess of freedom, WHERE v =[(s1^2/n1)+(s2^2/n2)]/[[(s1^2)/n1)^2/(n1-1))+[(s2^2/n2)^2/(n2-1)]]"
   ]
  },
  {
   "cell_type": "code",
   "execution_count": 63,
   "metadata": {},
   "outputs": [
    {
     "data": {
      "text/html": [
       "<div>\n",
       "<style scoped>\n",
       "    .dataframe tbody tr th:only-of-type {\n",
       "        vertical-align: middle;\n",
       "    }\n",
       "\n",
       "    .dataframe tbody tr th {\n",
       "        vertical-align: top;\n",
       "    }\n",
       "\n",
       "    .dataframe thead th {\n",
       "        text-align: right;\n",
       "    }\n",
       "</style>\n",
       "<table border=\"1\" class=\"dataframe\">\n",
       "  <thead>\n",
       "    <tr style=\"text-align: right;\">\n",
       "      <th></th>\n",
       "      <th>Metro_Phoenix</th>\n",
       "      <th>values_1</th>\n",
       "      <th>Rural_Arizona</th>\n",
       "      <th>values_2</th>\n",
       "    </tr>\n",
       "  </thead>\n",
       "  <tbody>\n",
       "    <tr>\n",
       "      <td>0</td>\n",
       "      <td>Phoenix</td>\n",
       "      <td>3</td>\n",
       "      <td>Rimrock</td>\n",
       "      <td>48</td>\n",
       "    </tr>\n",
       "    <tr>\n",
       "      <td>1</td>\n",
       "      <td>Chandler</td>\n",
       "      <td>7</td>\n",
       "      <td>GoodYear</td>\n",
       "      <td>44</td>\n",
       "    </tr>\n",
       "    <tr>\n",
       "      <td>2</td>\n",
       "      <td>Gilbert</td>\n",
       "      <td>25</td>\n",
       "      <td>New_River</td>\n",
       "      <td>40</td>\n",
       "    </tr>\n",
       "    <tr>\n",
       "      <td>3</td>\n",
       "      <td>Mesa</td>\n",
       "      <td>10</td>\n",
       "      <td>Apachie</td>\n",
       "      <td>38</td>\n",
       "    </tr>\n",
       "    <tr>\n",
       "      <td>4</td>\n",
       "      <td>Paradise_valley</td>\n",
       "      <td>15</td>\n",
       "      <td>Buckeye</td>\n",
       "      <td>33</td>\n",
       "    </tr>\n",
       "    <tr>\n",
       "      <td>5</td>\n",
       "      <td>Peoria</td>\n",
       "      <td>6</td>\n",
       "      <td>Nogales</td>\n",
       "      <td>21</td>\n",
       "    </tr>\n",
       "    <tr>\n",
       "      <td>6</td>\n",
       "      <td>Scottsddale</td>\n",
       "      <td>12</td>\n",
       "      <td>Black_cayon</td>\n",
       "      <td>20</td>\n",
       "    </tr>\n",
       "    <tr>\n",
       "      <td>7</td>\n",
       "      <td>Tempe</td>\n",
       "      <td>25</td>\n",
       "      <td>Seadona</td>\n",
       "      <td>12</td>\n",
       "    </tr>\n",
       "    <tr>\n",
       "      <td>8</td>\n",
       "      <td>Sun _City</td>\n",
       "      <td>15</td>\n",
       "      <td>Payson</td>\n",
       "      <td>1</td>\n",
       "    </tr>\n",
       "    <tr>\n",
       "      <td>9</td>\n",
       "      <td>tnio</td>\n",
       "      <td>7</td>\n",
       "      <td>Casa_Grande</td>\n",
       "      <td>18</td>\n",
       "    </tr>\n",
       "  </tbody>\n",
       "</table>\n",
       "</div>"
      ],
      "text/plain": [
       "     Metro_Phoenix  values_1 Rural_Arizona  values_2\n",
       "0          Phoenix         3       Rimrock        48\n",
       "1         Chandler         7      GoodYear        44\n",
       "2          Gilbert        25     New_River        40\n",
       "3             Mesa        10       Apachie        38\n",
       "4  Paradise_valley        15       Buckeye        33\n",
       "5           Peoria         6       Nogales        21\n",
       "6      Scottsddale        12   Black_cayon        20\n",
       "7            Tempe        25       Seadona        12\n",
       "8        Sun _City        15        Payson         1\n",
       "9             tnio         7   Casa_Grande        18"
      ]
     },
     "execution_count": 63,
     "metadata": {},
     "output_type": "execute_result"
    }
   ],
   "source": [
    "df5 = pd.read_excel('C:/Users/jagadeesh baman/Documents/alldata/sigma_unknown_assumed_unequal.xlsx')\n",
    "df5"
   ]
  },
  {
   "cell_type": "code",
   "execution_count": 64,
   "metadata": {},
   "outputs": [
    {
     "data": {
      "text/plain": [
       "[3, 7, 25, 10, 15, 6, 12, 25, 15, 7]"
      ]
     },
     "execution_count": 64,
     "metadata": {},
     "output_type": "execute_result"
    }
   ],
   "source": [
    "K = list(df5.values_1)\n",
    "K"
   ]
  },
  {
   "cell_type": "code",
   "execution_count": 65,
   "metadata": {},
   "outputs": [
    {
     "data": {
      "text/plain": [
       "[48, 44, 40, 38, 33, 21, 20, 12, 1, 18]"
      ]
     },
     "execution_count": 65,
     "metadata": {},
     "output_type": "execute_result"
    }
   ],
   "source": [
    "J = list(df5.values_2)\n",
    "J"
   ]
  },
  {
   "cell_type": "markdown",
   "metadata": {},
   "source": [
    "**P-value Approach**"
   ]
  },
  {
   "cell_type": "code",
   "execution_count": 66,
   "metadata": {},
   "outputs": [
    {
     "data": {
      "text/plain": [
       "Ttest_indResult(statistic=-2.7669395785560558, pvalue=0.015827284816100885)"
      ]
     },
     "execution_count": 66,
     "metadata": {},
     "output_type": "execute_result"
    }
   ],
   "source": [
    "stats.ttest_ind(K,J,equal_var=False)"
   ]
  },
  {
   "cell_type": "markdown",
   "metadata": {},
   "source": [
    "**Critical Value Approach**"
   ]
  },
  {
   "cell_type": "code",
   "execution_count": 67,
   "metadata": {},
   "outputs": [
    {
     "data": {
      "text/plain": [
       "-2.160368656461013"
      ]
     },
     "execution_count": 67,
     "metadata": {},
     "output_type": "execute_result"
    }
   ],
   "source": [
    "stats.t.ppf(0.025,13) #when you submite respected given values in the above given 'V', then you will get dof 13.2, so take 13"
   ]
  },
  {
   "cell_type": "markdown",
   "metadata": {},
   "source": [
    "**Conclusion**\n",
    "\n",
    "     p-value < alpha & t-calculated is not B/W the t-table value, so REJECT THE H0\n",
    "     \n",
    "     \n",
    "     \n",
    "There is evidence to conclude that mean arsenic concentration in the frinking water in rural Arizona id=s different from the mean arsenic concentration in metropolitan Phoenix drinking water"
   ]
  },
  {
   "cell_type": "markdown",
   "metadata": {},
   "source": [
    "# Dependent Samples"
   ]
  },
  {
   "cell_type": "markdown",
   "metadata": {},
   "source": [
    "Test means of two related Populstions\n",
    "\n",
    "        - Paired or matched samples\n",
    "        -Repeated measures ( before/after)\n",
    "        -Use difference between paired values:\n",
    "        \n",
    "           di - Xi -Yi\n",
    "           \n",
    "**Assumptions:**\n",
    "\n",
    "        -Both populations are Normally Distributed."
   ]
  },
  {
   "cell_type": "code",
   "execution_count": 68,
   "metadata": {},
   "outputs": [],
   "source": [
    "# The test statistic for the mean difference is a t value,with n-1 degree of freedom:\n",
    "\n",
    "              # t = (d(bar)-D0)/(sd/root(n))\n",
    "    \n",
    "#where D0 = hypothesized mean difference\n",
    "#      sd = sample standard deviation of differences\n",
    "#      n = the sample size (number of pairs)"
   ]
  },
  {
   "cell_type": "code",
   "execution_count": 69,
   "metadata": {},
   "outputs": [],
   "source": [
    "#Q :- An article in the Journal of Strain Analysis compares sevral methods for predicting the shear strength for \n",
    "#steel plate girders\n",
    "#Data for two of these methods, the Karlsruhe and lehigh procsdures,when applied to nine specific girders, are shown in Table.\n",
    "#We wish to determine whether there is any difference (on the avereage) B/W the two methods."
   ]
  },
  {
   "cell_type": "code",
   "execution_count": 70,
   "metadata": {},
   "outputs": [
    {
     "data": {
      "text/html": [
       "<div>\n",
       "<style scoped>\n",
       "    .dataframe tbody tr th:only-of-type {\n",
       "        vertical-align: middle;\n",
       "    }\n",
       "\n",
       "    .dataframe tbody tr th {\n",
       "        vertical-align: top;\n",
       "    }\n",
       "\n",
       "    .dataframe thead th {\n",
       "        text-align: right;\n",
       "    }\n",
       "</style>\n",
       "<table border=\"1\" class=\"dataframe\">\n",
       "  <thead>\n",
       "    <tr style=\"text-align: right;\">\n",
       "      <th></th>\n",
       "      <th>Girder</th>\n",
       "      <th>Karlsruhe_method</th>\n",
       "      <th>Lehigh_method</th>\n",
       "    </tr>\n",
       "  </thead>\n",
       "  <tbody>\n",
       "    <tr>\n",
       "      <td>0</td>\n",
       "      <td>S11</td>\n",
       "      <td>1.186</td>\n",
       "      <td>1.061</td>\n",
       "    </tr>\n",
       "    <tr>\n",
       "      <td>1</td>\n",
       "      <td>S21</td>\n",
       "      <td>1.151</td>\n",
       "      <td>0.992</td>\n",
       "    </tr>\n",
       "    <tr>\n",
       "      <td>2</td>\n",
       "      <td>S31</td>\n",
       "      <td>1.322</td>\n",
       "      <td>1.063</td>\n",
       "    </tr>\n",
       "    <tr>\n",
       "      <td>3</td>\n",
       "      <td>S41</td>\n",
       "      <td>1.339</td>\n",
       "      <td>1.062</td>\n",
       "    </tr>\n",
       "    <tr>\n",
       "      <td>4</td>\n",
       "      <td>S51</td>\n",
       "      <td>1.200</td>\n",
       "      <td>1.065</td>\n",
       "    </tr>\n",
       "    <tr>\n",
       "      <td>5</td>\n",
       "      <td>S21</td>\n",
       "      <td>1.402</td>\n",
       "      <td>1.178</td>\n",
       "    </tr>\n",
       "    <tr>\n",
       "      <td>6</td>\n",
       "      <td>S22</td>\n",
       "      <td>1.365</td>\n",
       "      <td>1.037</td>\n",
       "    </tr>\n",
       "    <tr>\n",
       "      <td>7</td>\n",
       "      <td>S23</td>\n",
       "      <td>1.537</td>\n",
       "      <td>1.086</td>\n",
       "    </tr>\n",
       "    <tr>\n",
       "      <td>8</td>\n",
       "      <td>S24</td>\n",
       "      <td>1.559</td>\n",
       "      <td>1.052</td>\n",
       "    </tr>\n",
       "  </tbody>\n",
       "</table>\n",
       "</div>"
      ],
      "text/plain": [
       "  Girder   Karlsruhe_method  Lehigh_method\n",
       "0     S11             1.186          1.061\n",
       "1     S21             1.151          0.992\n",
       "2     S31             1.322          1.063\n",
       "3     S41             1.339          1.062\n",
       "4     S51             1.200          1.065\n",
       "5     S21             1.402          1.178\n",
       "6     S22             1.365          1.037\n",
       "7     S23             1.537          1.086\n",
       "8     S24             1.559          1.052"
      ]
     },
     "execution_count": 70,
     "metadata": {},
     "output_type": "execute_result"
    }
   ],
   "source": [
    "df5=pd.read_excel('C:/Users/jagadeesh baman/Documents/alldata/strength_predictions_for_dependent_samples.xlsx')\n",
    "df5"
   ]
  },
  {
   "cell_type": "code",
   "execution_count": 71,
   "metadata": {},
   "outputs": [],
   "source": [
    "#formulate the H0& H1"
   ]
  },
  {
   "cell_type": "markdown",
   "metadata": {},
   "source": [
    "The parameter of interest is the difference in mean sher strength b/w the two methods,say, muD = mu1 - mu2 =0\n",
    "\n",
    "   **HO :** mu1 = mu2\n",
    "   \n",
    "   **H1:** mu1 != mu2"
   ]
  },
  {
   "cell_type": "code",
   "execution_count": 72,
   "metadata": {},
   "outputs": [
    {
     "data": {
      "text/plain": [
       "[1.186, 1.151, 1.322, 1.339, 1.2, 1.402, 1.365, 1.537, 1.559]"
      ]
     },
     "execution_count": 72,
     "metadata": {},
     "output_type": "execute_result"
    }
   ],
   "source": [
    "KARL = list(df5.Karlsruhe_method)\n",
    "KARL"
   ]
  },
  {
   "cell_type": "code",
   "execution_count": 73,
   "metadata": {},
   "outputs": [
    {
     "data": {
      "text/plain": [
       "[1.061, 0.992, 1.063, 1.062, 1.065, 1.178, 1.037, 1.086, 1.052]"
      ]
     },
     "execution_count": 73,
     "metadata": {},
     "output_type": "execute_result"
    }
   ],
   "source": [
    "LEH = list(df5.Lehigh_method)\n",
    "LEH"
   ]
  },
  {
   "cell_type": "code",
   "execution_count": 74,
   "metadata": {},
   "outputs": [
    {
     "data": {
      "text/plain": [
       "Ttest_relResult(statistic=6.0819394375848255, pvalue=0.00029529546278604066)"
      ]
     },
     "execution_count": 74,
     "metadata": {},
     "output_type": "execute_result"
    }
   ],
   "source": [
    "stats.ttest_rel(KARL,LEH)"
   ]
  },
  {
   "cell_type": "markdown",
   "metadata": {},
   "source": [
    "**Conclusion:** \n",
    "      \n",
    "      \n",
    "      Here P_value < alpha i.e [0.00029529546278604066 < 0.05 ], so we reject NULL HYPOTHESIS.\n",
    "       \n",
    "That at alpha 0.05  we can say that THERE IS DIFFERENCE(on the average ) B/W  the two methods."
   ]
  },
  {
   "cell_type": "markdown",
   "metadata": {},
   "source": [
    "# Inferences About the Difference B/W Two Population Proportions"
   ]
  },
  {
   "cell_type": "markdown",
   "metadata": {},
   "source": [
    "* If the sample sizes are large, the samplinng distribution of p1(bar)-p2(bar) can be appproximated by a normal probability distribution.\n",
    "\n",
    "* The sample aizes are sufficiently large if all of thsese conditions are met:\n",
    "\n",
    "            n1p1 >= 5 ,n1(1-p1) >= 5\n",
    "            \n",
    "            \n",
    "            n2p2 >= 5 ,n2(1-p2) >- 5"
   ]
  },
  {
   "cell_type": "code",
   "execution_count": 75,
   "metadata": {},
   "outputs": [],
   "source": [
    "#Hypothesis\n",
    "\n",
    "#we focus on tests involving no difference b/w the two population proportions ( i.e p1 =p2)"
   ]
  },
  {
   "cell_type": "markdown",
   "metadata": {},
   "source": [
    "Q:- Extracts of St.John's Wort are widely used to trest depression.\n",
    "\n",
    "* An article in the April issue of the Journal of the American Medical Association compared the efficacy of a standard extract of St.John's Wort with a Placedo in 200 outpatients diagnosed with major depression.\n",
    "\n",
    "* Patients were randomly assigned to two groups; one goup received the St.John's Wort, and the other received the Placebo\n",
    "\n",
    "* After 8 weeks,19 of the placebo-treated patients showed improvement, whereas 27 of those treated with St.John's Wort improved.\n",
    "\n",
    "* Is there any reason to believe that St.John's Wort is effective in treating major depression, USE 0.05 Alpha"
   ]
  },
  {
   "cell_type": "code",
   "execution_count": 76,
   "metadata": {},
   "outputs": [],
   "source": [
    "#Formulate The H0 & H1"
   ]
  },
  {
   "cell_type": "markdown",
   "metadata": {},
   "source": [
    "**H0:** p1 = p2  [ i.e both are equal ]\n",
    "\n",
    "**H1:** p1 != p2 [ i.e The claim that St.John's Wort is effective in treating major depression.]"
   ]
  },
  {
   "cell_type": "code",
   "execution_count": 77,
   "metadata": {},
   "outputs": [],
   "source": [
    "#firstly define a function z_and p_value"
   ]
  },
  {
   "cell_type": "code",
   "execution_count": 78,
   "metadata": {},
   "outputs": [],
   "source": [
    "import math\n",
    "def two_samp_proportion(p1,p2,n1,n2):#it will take this as the input\n",
    "    p_pool = ((p1*n2)+(p2*n1))/(n1+n2)\n",
    "    x = (p_pool*(1-p_pool)*((1/n1)+(1/n2)))\n",
    "    s=math.sqrt(x)\n",
    "    z=(p1-p2)/s  #do no panic by looking this, this is just a formula, if you write in a paper it will become very easy.\n",
    "    if(z < 0):\n",
    "        p_val = stats.norm.cdf(z) #This is for left-tiled tesdt\n",
    "    else:\n",
    "        p_val =1-stats.norm.cdf(z)\n",
    "    return z,p_val*2   #(*2 is because it is two-tail-test)"
   ]
  },
  {
   "cell_type": "code",
   "execution_count": 79,
   "metadata": {},
   "outputs": [],
   "source": [
    "#Given\n",
    "p1 = 0.27   #(27/100)\n",
    "p2 = 0.19   #(19/100)\n",
    "n1 = 100\n",
    "n2 = 100"
   ]
  },
  {
   "cell_type": "code",
   "execution_count": 80,
   "metadata": {},
   "outputs": [
    {
     "data": {
      "text/plain": [
       "(1.3442056254198995, 0.17888190308175567)"
      ]
     },
     "execution_count": 80,
     "metadata": {},
     "output_type": "execute_result"
    }
   ],
   "source": [
    "#call the defined function & give inputs\n",
    "two_samp_proportion(0.27,0.19,100,100)"
   ]
  },
  {
   "cell_type": "code",
   "execution_count": 81,
   "metadata": {},
   "outputs": [
    {
     "data": {
      "text/plain": [
       "0.9105590484591222"
      ]
     },
     "execution_count": 81,
     "metadata": {},
     "output_type": "execute_result"
    }
   ],
   "source": [
    "stats.norm.cdf(1.3442056254198995)"
   ]
  },
  {
   "cell_type": "code",
   "execution_count": 82,
   "metadata": {},
   "outputs": [
    {
     "data": {
      "text/plain": [
       "-1.9599639845400545"
      ]
     },
     "execution_count": 82,
     "metadata": {},
     "output_type": "execute_result"
    }
   ],
   "source": [
    "stats.norm.ppf(0.05/2)"
   ]
  },
  {
   "cell_type": "markdown",
   "metadata": {},
   "source": [
    "**Conclusion:**\n",
    "\n",
    "    Here z-calculated value falles into z_value regeion, so accept the null hypothesis.\n",
    "    \n",
    "**P_Value Approach:**\n",
    "\n",
    "      Here P_value > Alpha [ 0.17888190308175567 > 0.05 ],Do not reject the NULL HYPOTHESIS.\n",
    "      \n",
    " So There is insufficient evidence to support the claim that At.John's Wort is effective in treating major depression."
   ]
  },
  {
   "cell_type": "markdown",
   "metadata": {},
   "source": [
    "# Hypothesis Tests for Two Variances"
   ]
  },
  {
   "cell_type": "code",
   "execution_count": 83,
   "metadata": {},
   "outputs": [],
   "source": [
    "#for this we use F-Test statistic  \n",
    "\n",
    "#                        F=(s1^2/sigma1^2)/(s2^2/sigma2^2)\n",
    "#Has an F distribution with (n1 - 1)numerator degrees of freedom and (n1 - 1) denominator degree of freedom"
   ]
  },
  {
   "cell_type": "code",
   "execution_count": 84,
   "metadata": {},
   "outputs": [],
   "source": [
    "X3=[3,7,25,10,15,6,12,25,15,7]\n",
    "Y3=[48,44,40,38,33,21,20,12,1,18]"
   ]
  },
  {
   "cell_type": "code",
   "execution_count": 85,
   "metadata": {},
   "outputs": [],
   "source": [
    "Y3=[48,44,40,38,33,21,20,12,1,18]"
   ]
  },
  {
   "cell_type": "code",
   "execution_count": 86,
   "metadata": {},
   "outputs": [],
   "source": [
    "F = np.var(X3)/np.var(Y3)\n",
    "dfn=len(X3)-1\n",
    "dfd=len(Y3)-1"
   ]
  },
  {
   "cell_type": "code",
   "execution_count": 87,
   "metadata": {},
   "outputs": [
    {
     "data": {
      "text/plain": [
       "0.024680183438910465"
      ]
     },
     "execution_count": 87,
     "metadata": {},
     "output_type": "execute_result"
    }
   ],
   "source": [
    "p_value=scipy.stats.f.cdf(F,dfn,dfd)\n",
    "p_value"
   ]
  },
  {
   "cell_type": "markdown",
   "metadata": {},
   "source": [
    "**Conclusion:**\n",
    "\n",
    "        Reject H0 if p_value <= Alpha"
   ]
  },
  {
   "cell_type": "markdown",
   "metadata": {},
   "source": [
    "# Z v/s T   Test"
   ]
  },
  {
   "cell_type": "code",
   "execution_count": 89,
   "metadata": {},
   "outputs": [],
   "source": [
    "# 1:-  if n <= 30, and sigma Known then go for Z-Test, and if sigma known then go for t-test\n",
    "\n",
    "# 2:- if n > 30, and sigma known then go for Z-test, if sigma unknown go for Z-test(here use sample standard deviation)"
   ]
  },
  {
   "cell_type": "code",
   "execution_count": 90,
   "metadata": {},
   "outputs": [],
   "source": [
    "# Hope you found usfull,THANKYOU."
   ]
  },
  {
   "cell_type": "code",
   "execution_count": null,
   "metadata": {},
   "outputs": [],
   "source": []
  }
 ],
 "metadata": {
  "kernelspec": {
   "display_name": "Python 3",
   "language": "python",
   "name": "python3"
  },
  "language_info": {
   "codemirror_mode": {
    "name": "ipython",
    "version": 3
   },
   "file_extension": ".py",
   "mimetype": "text/x-python",
   "name": "python",
   "nbconvert_exporter": "python",
   "pygments_lexer": "ipython3",
   "version": "3.7.4"
  }
 },
 "nbformat": 4,
 "nbformat_minor": 2
}
